{
  "nbformat": 4,
  "nbformat_minor": 0,
  "metadata": {
    "colab": {
      "name": "Wine-reviews.ipynb",
      "provenance": [],
      "collapsed_sections": []
    },
    "kernelspec": {
      "name": "python3",
      "display_name": "Python 3"
    },
    "language_info": {
      "name": "python"
    }
  },
  "cells": [
    {
      "cell_type": "markdown",
      "source": [
        "# Wine EDA\n",
        "This project is done by \n",
        " - Vipul Singh \n",
        " - Student of Bharati Vidyapeeth (DU) Department of Engineering and Technology, Navi Mumbai, Maharashtra  \n",
        " - vipulrajpoot2000@gmail.com\n",
        " - (LinkedIn )[https/linkedIn/IN]\n",
        " "
      ],
      "metadata": {
        "id": "B7oUWpBZvS6w"
      }
    },
    {
      "cell_type": "markdown",
      "source": [
        "# STRUCTURE DATA"
      ],
      "metadata": {
        "id": "M8e3HNkDGuxM"
      }
    },
    {
      "cell_type": "code",
      "source": [
        "import pandas as pd\n",
        "import numpy as np\n",
        "import matplotlib.pyplot as plt\n",
        "import seaborn as sns\n"
      ],
      "metadata": {
        "id": "_fzFQdJWvfNz"
      },
      "execution_count": null,
      "outputs": []
    },
    {
      "cell_type": "code",
      "source": [
        "data= pd.read_csv(\"/wine-reviews.csv\")"
      ],
      "metadata": {
        "id": "CAg2dl508bER"
      },
      "execution_count": null,
      "outputs": []
    },
    {
      "cell_type": "code",
      "source": [
        "data.count()"
      ],
      "metadata": {
        "colab": {
          "base_uri": "https://localhost:8080/"
        },
        "id": "JVlGZgIo1ID6",
        "outputId": "dfa0b801-5a08-4bbf-a7a4-401bedcc5f14"
      },
      "execution_count": null,
      "outputs": [
        {
          "output_type": "execute_result",
          "data": {
            "text/plain": [
              "Unnamed: 0               129971\n",
              "country                  129908\n",
              "description              129971\n",
              "designation               92506\n",
              "  Points                 129971\n",
              "  Price                  120975\n",
              "province                 129908\n",
              "region_1                 108724\n",
              "region_2                  50511\n",
              "taster_name              103727\n",
              "taster_twitter_handle     98758\n",
              "title                    129971\n",
              "variety                  129970\n",
              "winery                   129971\n",
              "dtype: int64"
            ]
          },
          "metadata": {},
          "execution_count": 13
        }
      ]
    },
    {
      "cell_type": "code",
      "source": [
        "newdata.info()"
      ],
      "metadata": {
        "colab": {
          "base_uri": "https://localhost:8080/"
        },
        "id": "njyzg36B1W6I",
        "outputId": "ac491057-9136-46da-a242-7099d859e9be"
      },
      "execution_count": null,
      "outputs": [
        {
          "output_type": "stream",
          "name": "stdout",
          "text": [
            "<class 'pandas.core.frame.DataFrame'>\n",
            "RangeIndex: 129971 entries, 0 to 129970\n",
            "Data columns (total 9 columns):\n",
            " #   Column       Non-Null Count   Dtype  \n",
            "---  ------       --------------   -----  \n",
            " 0   country      129908 non-null  object \n",
            " 1   designation  92506 non-null   object \n",
            " 2     Points     129971 non-null  int64  \n",
            " 3     Price      120975 non-null  float64\n",
            " 4   province     129908 non-null  object \n",
            " 5   taster_name  103727 non-null  object \n",
            " 6   title        129971 non-null  object \n",
            " 7   variety      129970 non-null  object \n",
            " 8   winery       129971 non-null  object \n",
            "dtypes: float64(1), int64(1), object(7)\n",
            "memory usage: 8.9+ MB\n"
          ]
        }
      ]
    },
    {
      "cell_type": "code",
      "source": [
        "data.describe()"
      ],
      "metadata": {
        "colab": {
          "base_uri": "https://localhost:8080/",
          "height": 300
        },
        "id": "E4ZuIxozovhm",
        "outputId": "aa6abf12-8ca1-4f86-cd54-850b384682e7"
      },
      "execution_count": null,
      "outputs": [
        {
          "output_type": "execute_result",
          "data": {
            "text/plain": [
              "          Unnamed: 0         Points          Price\n",
              "count  129971.000000  129971.000000  120975.000000\n",
              "mean    64985.000000      88.447138      35.363389\n",
              "std     37519.540256       3.039730      41.022218\n",
              "min         0.000000      80.000000       4.000000\n",
              "25%     32492.500000      86.000000      17.000000\n",
              "50%     64985.000000      88.000000      25.000000\n",
              "75%     97477.500000      91.000000      42.000000\n",
              "max    129970.000000     100.000000    3300.000000"
            ],
            "text/html": [
              "\n",
              "  <div id=\"df-c56fd191-8eb4-4114-9820-d88eb05791bf\">\n",
              "    <div class=\"colab-df-container\">\n",
              "      <div>\n",
              "<style scoped>\n",
              "    .dataframe tbody tr th:only-of-type {\n",
              "        vertical-align: middle;\n",
              "    }\n",
              "\n",
              "    .dataframe tbody tr th {\n",
              "        vertical-align: top;\n",
              "    }\n",
              "\n",
              "    .dataframe thead th {\n",
              "        text-align: right;\n",
              "    }\n",
              "</style>\n",
              "<table border=\"1\" class=\"dataframe\">\n",
              "  <thead>\n",
              "    <tr style=\"text-align: right;\">\n",
              "      <th></th>\n",
              "      <th>Unnamed: 0</th>\n",
              "      <th>Points</th>\n",
              "      <th>Price</th>\n",
              "    </tr>\n",
              "  </thead>\n",
              "  <tbody>\n",
              "    <tr>\n",
              "      <th>count</th>\n",
              "      <td>129971.000000</td>\n",
              "      <td>129971.000000</td>\n",
              "      <td>120975.000000</td>\n",
              "    </tr>\n",
              "    <tr>\n",
              "      <th>mean</th>\n",
              "      <td>64985.000000</td>\n",
              "      <td>88.447138</td>\n",
              "      <td>35.363389</td>\n",
              "    </tr>\n",
              "    <tr>\n",
              "      <th>std</th>\n",
              "      <td>37519.540256</td>\n",
              "      <td>3.039730</td>\n",
              "      <td>41.022218</td>\n",
              "    </tr>\n",
              "    <tr>\n",
              "      <th>min</th>\n",
              "      <td>0.000000</td>\n",
              "      <td>80.000000</td>\n",
              "      <td>4.000000</td>\n",
              "    </tr>\n",
              "    <tr>\n",
              "      <th>25%</th>\n",
              "      <td>32492.500000</td>\n",
              "      <td>86.000000</td>\n",
              "      <td>17.000000</td>\n",
              "    </tr>\n",
              "    <tr>\n",
              "      <th>50%</th>\n",
              "      <td>64985.000000</td>\n",
              "      <td>88.000000</td>\n",
              "      <td>25.000000</td>\n",
              "    </tr>\n",
              "    <tr>\n",
              "      <th>75%</th>\n",
              "      <td>97477.500000</td>\n",
              "      <td>91.000000</td>\n",
              "      <td>42.000000</td>\n",
              "    </tr>\n",
              "    <tr>\n",
              "      <th>max</th>\n",
              "      <td>129970.000000</td>\n",
              "      <td>100.000000</td>\n",
              "      <td>3300.000000</td>\n",
              "    </tr>\n",
              "  </tbody>\n",
              "</table>\n",
              "</div>\n",
              "      <button class=\"colab-df-convert\" onclick=\"convertToInteractive('df-c56fd191-8eb4-4114-9820-d88eb05791bf')\"\n",
              "              title=\"Convert this dataframe to an interactive table.\"\n",
              "              style=\"display:none;\">\n",
              "        \n",
              "  <svg xmlns=\"http://www.w3.org/2000/svg\" height=\"24px\"viewBox=\"0 0 24 24\"\n",
              "       width=\"24px\">\n",
              "    <path d=\"M0 0h24v24H0V0z\" fill=\"none\"/>\n",
              "    <path d=\"M18.56 5.44l.94 2.06.94-2.06 2.06-.94-2.06-.94-.94-2.06-.94 2.06-2.06.94zm-11 1L8.5 8.5l.94-2.06 2.06-.94-2.06-.94L8.5 2.5l-.94 2.06-2.06.94zm10 10l.94 2.06.94-2.06 2.06-.94-2.06-.94-.94-2.06-.94 2.06-2.06.94z\"/><path d=\"M17.41 7.96l-1.37-1.37c-.4-.4-.92-.59-1.43-.59-.52 0-1.04.2-1.43.59L10.3 9.45l-7.72 7.72c-.78.78-.78 2.05 0 2.83L4 21.41c.39.39.9.59 1.41.59.51 0 1.02-.2 1.41-.59l7.78-7.78 2.81-2.81c.8-.78.8-2.07 0-2.86zM5.41 20L4 18.59l7.72-7.72 1.47 1.35L5.41 20z\"/>\n",
              "  </svg>\n",
              "      </button>\n",
              "      \n",
              "  <style>\n",
              "    .colab-df-container {\n",
              "      display:flex;\n",
              "      flex-wrap:wrap;\n",
              "      gap: 12px;\n",
              "    }\n",
              "\n",
              "    .colab-df-convert {\n",
              "      background-color: #E8F0FE;\n",
              "      border: none;\n",
              "      border-radius: 50%;\n",
              "      cursor: pointer;\n",
              "      display: none;\n",
              "      fill: #1967D2;\n",
              "      height: 32px;\n",
              "      padding: 0 0 0 0;\n",
              "      width: 32px;\n",
              "    }\n",
              "\n",
              "    .colab-df-convert:hover {\n",
              "      background-color: #E2EBFA;\n",
              "      box-shadow: 0px 1px 2px rgba(60, 64, 67, 0.3), 0px 1px 3px 1px rgba(60, 64, 67, 0.15);\n",
              "      fill: #174EA6;\n",
              "    }\n",
              "\n",
              "    [theme=dark] .colab-df-convert {\n",
              "      background-color: #3B4455;\n",
              "      fill: #D2E3FC;\n",
              "    }\n",
              "\n",
              "    [theme=dark] .colab-df-convert:hover {\n",
              "      background-color: #434B5C;\n",
              "      box-shadow: 0px 1px 3px 1px rgba(0, 0, 0, 0.15);\n",
              "      filter: drop-shadow(0px 1px 2px rgba(0, 0, 0, 0.3));\n",
              "      fill: #FFFFFF;\n",
              "    }\n",
              "  </style>\n",
              "\n",
              "      <script>\n",
              "        const buttonEl =\n",
              "          document.querySelector('#df-c56fd191-8eb4-4114-9820-d88eb05791bf button.colab-df-convert');\n",
              "        buttonEl.style.display =\n",
              "          google.colab.kernel.accessAllowed ? 'block' : 'none';\n",
              "\n",
              "        async function convertToInteractive(key) {\n",
              "          const element = document.querySelector('#df-c56fd191-8eb4-4114-9820-d88eb05791bf');\n",
              "          const dataTable =\n",
              "            await google.colab.kernel.invokeFunction('convertToInteractive',\n",
              "                                                     [key], {});\n",
              "          if (!dataTable) return;\n",
              "\n",
              "          const docLinkHtml = 'Like what you see? Visit the ' +\n",
              "            '<a target=\"_blank\" href=https://colab.research.google.com/notebooks/data_table.ipynb>data table notebook</a>'\n",
              "            + ' to learn more about interactive tables.';\n",
              "          element.innerHTML = '';\n",
              "          dataTable['output_type'] = 'display_data';\n",
              "          await google.colab.output.renderOutput(dataTable, element);\n",
              "          const docLink = document.createElement('div');\n",
              "          docLink.innerHTML = docLinkHtml;\n",
              "          element.appendChild(docLink);\n",
              "        }\n",
              "      </script>\n",
              "    </div>\n",
              "  </div>\n",
              "  "
            ]
          },
          "metadata": {},
          "execution_count": 30
        }
      ]
    },
    {
      "cell_type": "markdown",
      "source": [
        "## Cleaning Data"
      ],
      "metadata": {
        "id": "zjbkQdoVbh6Y"
      }
    },
    {
      "cell_type": "code",
      "source": [
        "uw_labels= [\"Unnamed: 0\", \"description\", \"region_1\", \"region_2\", \"taster_twitter_handle\"]\n",
        "newdata= data.drop(labels= uw_labels, axis= 1)"
      ],
      "metadata": {
        "id": "15yqLbL8bVGa"
      },
      "execution_count": null,
      "outputs": []
    },
    {
      "cell_type": "code",
      "source": [
        "data.dropna()"
      ],
      "metadata": {
        "colab": {
          "base_uri": "https://localhost:8080/",
          "height": 659
        },
        "id": "OpYpBCv175pm",
        "outputId": "de123d85-6cc2-4880-c039-be3a28515a01"
      },
      "execution_count": null,
      "outputs": [
        {
          "output_type": "execute_result",
          "data": {
            "text/plain": [
              "        Unnamed: 0 country                                        description  \\\n",
              "4                4      US  Much like the regular bottling from 2012, this...   \n",
              "10              10      US  Soft, supple plum envelopes an oaky structure ...   \n",
              "23              23      US  This wine from the Geneseo district offers aro...   \n",
              "25              25      US  Oak and earth intermingle around robust aromas...   \n",
              "35              35      US  As with many of the Erath 2010 vineyard design...   \n",
              "...            ...     ...                                                ...   \n",
              "129919      129919      US  This ripe, rich, almost decadently thick wine ...   \n",
              "129926      129926      US  This pure Syrah from Reininger's estate vineya...   \n",
              "129945      129945      US  Hailing from one of the more popular vineyards...   \n",
              "129949      129949      US  There's no bones about the use of oak in this ...   \n",
              "129950      129950      US  This opens with herbaceous dollops of thyme an...   \n",
              "\n",
              "                               designation    Points    Price    province  \\\n",
              "4       Vintner's Reserve Wild Child Block        87     65.0      Oregon   \n",
              "10                          Mountain Cuvée        87     19.0  California   \n",
              "23                     Signature Selection        87     22.0  California   \n",
              "25                     King Ridge Vineyard        87     69.0  California   \n",
              "35                                  Hyland        86     50.0      Oregon   \n",
              "...                                    ...       ...      ...         ...   \n",
              "129919                             Reserve        91    105.0  Washington   \n",
              "129926                 Ash Hollow Vineyard        91     41.0  Washington   \n",
              "129945    Jurassic Park Vineyard Old Vines        90     20.0  California   \n",
              "129949                    Barrel Fermented        90     35.0  California   \n",
              "129950                       Blocks 7 & 22        90     35.0  California   \n",
              "\n",
              "                       region_1           region_2     taster_name  \\\n",
              "4             Willamette Valley  Willamette Valley    Paul Gregutt   \n",
              "10                  Napa Valley               Napa  Virginie Boone   \n",
              "23                  Paso Robles      Central Coast   Matt Kettmann   \n",
              "25                 Sonoma Coast             Sonoma  Virginie Boone   \n",
              "35                  McMinnville  Willamette Valley    Paul Gregutt   \n",
              "...                         ...                ...             ...   \n",
              "129919  Walla Walla Valley (WA)    Columbia Valley    Paul Gregutt   \n",
              "129926  Walla Walla Valley (WA)    Columbia Valley    Paul Gregutt   \n",
              "129945        Santa Ynez Valley      Central Coast   Matt Kettmann   \n",
              "129949              Napa Valley               Napa  Virginie Boone   \n",
              "129950              Napa Valley               Napa  Virginie Boone   \n",
              "\n",
              "       taster_twitter_handle  \\\n",
              "4                @paulgwine    \n",
              "10                   @vboone   \n",
              "23             @mattkettmann   \n",
              "25                   @vboone   \n",
              "35               @paulgwine    \n",
              "...                      ...   \n",
              "129919           @paulgwine    \n",
              "129926           @paulgwine    \n",
              "129945         @mattkettmann   \n",
              "129949               @vboone   \n",
              "129950               @vboone   \n",
              "\n",
              "                                                    title             variety  \\\n",
              "4       Sweet Cheeks 2012 Vintner's Reserve Wild Child...          Pinot Noir   \n",
              "10      Kirkland Signature 2011 Mountain Cuvée Caberne...  Cabernet Sauvignon   \n",
              "23      Bianchi 2011 Signature Selection Merlot (Paso ...              Merlot   \n",
              "25      Castello di Amorosa 2011 King Ridge Vineyard P...          Pinot Noir   \n",
              "35             Erath 2010 Hyland Pinot Noir (McMinnville)          Pinot Noir   \n",
              "...                                                   ...                 ...   \n",
              "129919  Nicholas Cole Cellars 2004 Reserve Red (Walla ...           Red Blend   \n",
              "129926  Reininger 2005 Ash Hollow Vineyard Syrah (Wall...               Syrah   \n",
              "129945  Birichino 2013 Jurassic Park Vineyard Old Vine...        Chenin Blanc   \n",
              "129949  Flora Springs 2013 Barrel Fermented Chardonnay...          Chardonnay   \n",
              "129950  Hendry 2012 Blocks 7 & 22 Zinfandel (Napa Valley)           Zinfandel   \n",
              "\n",
              "                       winery  \n",
              "4                Sweet Cheeks  \n",
              "10         Kirkland Signature  \n",
              "23                    Bianchi  \n",
              "25        Castello di Amorosa  \n",
              "35                      Erath  \n",
              "...                       ...  \n",
              "129919  Nicholas Cole Cellars  \n",
              "129926              Reininger  \n",
              "129945              Birichino  \n",
              "129949          Flora Springs  \n",
              "129950                 Hendry  \n",
              "\n",
              "[22387 rows x 14 columns]"
            ],
            "text/html": [
              "\n",
              "  <div id=\"df-bb518264-a34b-475b-bd76-b7f1992f0946\">\n",
              "    <div class=\"colab-df-container\">\n",
              "      <div>\n",
              "<style scoped>\n",
              "    .dataframe tbody tr th:only-of-type {\n",
              "        vertical-align: middle;\n",
              "    }\n",
              "\n",
              "    .dataframe tbody tr th {\n",
              "        vertical-align: top;\n",
              "    }\n",
              "\n",
              "    .dataframe thead th {\n",
              "        text-align: right;\n",
              "    }\n",
              "</style>\n",
              "<table border=\"1\" class=\"dataframe\">\n",
              "  <thead>\n",
              "    <tr style=\"text-align: right;\">\n",
              "      <th></th>\n",
              "      <th>Unnamed: 0</th>\n",
              "      <th>country</th>\n",
              "      <th>description</th>\n",
              "      <th>designation</th>\n",
              "      <th>Points</th>\n",
              "      <th>Price</th>\n",
              "      <th>province</th>\n",
              "      <th>region_1</th>\n",
              "      <th>region_2</th>\n",
              "      <th>taster_name</th>\n",
              "      <th>taster_twitter_handle</th>\n",
              "      <th>title</th>\n",
              "      <th>variety</th>\n",
              "      <th>winery</th>\n",
              "    </tr>\n",
              "  </thead>\n",
              "  <tbody>\n",
              "    <tr>\n",
              "      <th>4</th>\n",
              "      <td>4</td>\n",
              "      <td>US</td>\n",
              "      <td>Much like the regular bottling from 2012, this...</td>\n",
              "      <td>Vintner's Reserve Wild Child Block</td>\n",
              "      <td>87</td>\n",
              "      <td>65.0</td>\n",
              "      <td>Oregon</td>\n",
              "      <td>Willamette Valley</td>\n",
              "      <td>Willamette Valley</td>\n",
              "      <td>Paul Gregutt</td>\n",
              "      <td>@paulgwine</td>\n",
              "      <td>Sweet Cheeks 2012 Vintner's Reserve Wild Child...</td>\n",
              "      <td>Pinot Noir</td>\n",
              "      <td>Sweet Cheeks</td>\n",
              "    </tr>\n",
              "    <tr>\n",
              "      <th>10</th>\n",
              "      <td>10</td>\n",
              "      <td>US</td>\n",
              "      <td>Soft, supple plum envelopes an oaky structure ...</td>\n",
              "      <td>Mountain Cuvée</td>\n",
              "      <td>87</td>\n",
              "      <td>19.0</td>\n",
              "      <td>California</td>\n",
              "      <td>Napa Valley</td>\n",
              "      <td>Napa</td>\n",
              "      <td>Virginie Boone</td>\n",
              "      <td>@vboone</td>\n",
              "      <td>Kirkland Signature 2011 Mountain Cuvée Caberne...</td>\n",
              "      <td>Cabernet Sauvignon</td>\n",
              "      <td>Kirkland Signature</td>\n",
              "    </tr>\n",
              "    <tr>\n",
              "      <th>23</th>\n",
              "      <td>23</td>\n",
              "      <td>US</td>\n",
              "      <td>This wine from the Geneseo district offers aro...</td>\n",
              "      <td>Signature Selection</td>\n",
              "      <td>87</td>\n",
              "      <td>22.0</td>\n",
              "      <td>California</td>\n",
              "      <td>Paso Robles</td>\n",
              "      <td>Central Coast</td>\n",
              "      <td>Matt Kettmann</td>\n",
              "      <td>@mattkettmann</td>\n",
              "      <td>Bianchi 2011 Signature Selection Merlot (Paso ...</td>\n",
              "      <td>Merlot</td>\n",
              "      <td>Bianchi</td>\n",
              "    </tr>\n",
              "    <tr>\n",
              "      <th>25</th>\n",
              "      <td>25</td>\n",
              "      <td>US</td>\n",
              "      <td>Oak and earth intermingle around robust aromas...</td>\n",
              "      <td>King Ridge Vineyard</td>\n",
              "      <td>87</td>\n",
              "      <td>69.0</td>\n",
              "      <td>California</td>\n",
              "      <td>Sonoma Coast</td>\n",
              "      <td>Sonoma</td>\n",
              "      <td>Virginie Boone</td>\n",
              "      <td>@vboone</td>\n",
              "      <td>Castello di Amorosa 2011 King Ridge Vineyard P...</td>\n",
              "      <td>Pinot Noir</td>\n",
              "      <td>Castello di Amorosa</td>\n",
              "    </tr>\n",
              "    <tr>\n",
              "      <th>35</th>\n",
              "      <td>35</td>\n",
              "      <td>US</td>\n",
              "      <td>As with many of the Erath 2010 vineyard design...</td>\n",
              "      <td>Hyland</td>\n",
              "      <td>86</td>\n",
              "      <td>50.0</td>\n",
              "      <td>Oregon</td>\n",
              "      <td>McMinnville</td>\n",
              "      <td>Willamette Valley</td>\n",
              "      <td>Paul Gregutt</td>\n",
              "      <td>@paulgwine</td>\n",
              "      <td>Erath 2010 Hyland Pinot Noir (McMinnville)</td>\n",
              "      <td>Pinot Noir</td>\n",
              "      <td>Erath</td>\n",
              "    </tr>\n",
              "    <tr>\n",
              "      <th>...</th>\n",
              "      <td>...</td>\n",
              "      <td>...</td>\n",
              "      <td>...</td>\n",
              "      <td>...</td>\n",
              "      <td>...</td>\n",
              "      <td>...</td>\n",
              "      <td>...</td>\n",
              "      <td>...</td>\n",
              "      <td>...</td>\n",
              "      <td>...</td>\n",
              "      <td>...</td>\n",
              "      <td>...</td>\n",
              "      <td>...</td>\n",
              "      <td>...</td>\n",
              "    </tr>\n",
              "    <tr>\n",
              "      <th>129919</th>\n",
              "      <td>129919</td>\n",
              "      <td>US</td>\n",
              "      <td>This ripe, rich, almost decadently thick wine ...</td>\n",
              "      <td>Reserve</td>\n",
              "      <td>91</td>\n",
              "      <td>105.0</td>\n",
              "      <td>Washington</td>\n",
              "      <td>Walla Walla Valley (WA)</td>\n",
              "      <td>Columbia Valley</td>\n",
              "      <td>Paul Gregutt</td>\n",
              "      <td>@paulgwine</td>\n",
              "      <td>Nicholas Cole Cellars 2004 Reserve Red (Walla ...</td>\n",
              "      <td>Red Blend</td>\n",
              "      <td>Nicholas Cole Cellars</td>\n",
              "    </tr>\n",
              "    <tr>\n",
              "      <th>129926</th>\n",
              "      <td>129926</td>\n",
              "      <td>US</td>\n",
              "      <td>This pure Syrah from Reininger's estate vineya...</td>\n",
              "      <td>Ash Hollow Vineyard</td>\n",
              "      <td>91</td>\n",
              "      <td>41.0</td>\n",
              "      <td>Washington</td>\n",
              "      <td>Walla Walla Valley (WA)</td>\n",
              "      <td>Columbia Valley</td>\n",
              "      <td>Paul Gregutt</td>\n",
              "      <td>@paulgwine</td>\n",
              "      <td>Reininger 2005 Ash Hollow Vineyard Syrah (Wall...</td>\n",
              "      <td>Syrah</td>\n",
              "      <td>Reininger</td>\n",
              "    </tr>\n",
              "    <tr>\n",
              "      <th>129945</th>\n",
              "      <td>129945</td>\n",
              "      <td>US</td>\n",
              "      <td>Hailing from one of the more popular vineyards...</td>\n",
              "      <td>Jurassic Park Vineyard Old Vines</td>\n",
              "      <td>90</td>\n",
              "      <td>20.0</td>\n",
              "      <td>California</td>\n",
              "      <td>Santa Ynez Valley</td>\n",
              "      <td>Central Coast</td>\n",
              "      <td>Matt Kettmann</td>\n",
              "      <td>@mattkettmann</td>\n",
              "      <td>Birichino 2013 Jurassic Park Vineyard Old Vine...</td>\n",
              "      <td>Chenin Blanc</td>\n",
              "      <td>Birichino</td>\n",
              "    </tr>\n",
              "    <tr>\n",
              "      <th>129949</th>\n",
              "      <td>129949</td>\n",
              "      <td>US</td>\n",
              "      <td>There's no bones about the use of oak in this ...</td>\n",
              "      <td>Barrel Fermented</td>\n",
              "      <td>90</td>\n",
              "      <td>35.0</td>\n",
              "      <td>California</td>\n",
              "      <td>Napa Valley</td>\n",
              "      <td>Napa</td>\n",
              "      <td>Virginie Boone</td>\n",
              "      <td>@vboone</td>\n",
              "      <td>Flora Springs 2013 Barrel Fermented Chardonnay...</td>\n",
              "      <td>Chardonnay</td>\n",
              "      <td>Flora Springs</td>\n",
              "    </tr>\n",
              "    <tr>\n",
              "      <th>129950</th>\n",
              "      <td>129950</td>\n",
              "      <td>US</td>\n",
              "      <td>This opens with herbaceous dollops of thyme an...</td>\n",
              "      <td>Blocks 7 &amp; 22</td>\n",
              "      <td>90</td>\n",
              "      <td>35.0</td>\n",
              "      <td>California</td>\n",
              "      <td>Napa Valley</td>\n",
              "      <td>Napa</td>\n",
              "      <td>Virginie Boone</td>\n",
              "      <td>@vboone</td>\n",
              "      <td>Hendry 2012 Blocks 7 &amp; 22 Zinfandel (Napa Valley)</td>\n",
              "      <td>Zinfandel</td>\n",
              "      <td>Hendry</td>\n",
              "    </tr>\n",
              "  </tbody>\n",
              "</table>\n",
              "<p>22387 rows × 14 columns</p>\n",
              "</div>\n",
              "      <button class=\"colab-df-convert\" onclick=\"convertToInteractive('df-bb518264-a34b-475b-bd76-b7f1992f0946')\"\n",
              "              title=\"Convert this dataframe to an interactive table.\"\n",
              "              style=\"display:none;\">\n",
              "        \n",
              "  <svg xmlns=\"http://www.w3.org/2000/svg\" height=\"24px\"viewBox=\"0 0 24 24\"\n",
              "       width=\"24px\">\n",
              "    <path d=\"M0 0h24v24H0V0z\" fill=\"none\"/>\n",
              "    <path d=\"M18.56 5.44l.94 2.06.94-2.06 2.06-.94-2.06-.94-.94-2.06-.94 2.06-2.06.94zm-11 1L8.5 8.5l.94-2.06 2.06-.94-2.06-.94L8.5 2.5l-.94 2.06-2.06.94zm10 10l.94 2.06.94-2.06 2.06-.94-2.06-.94-.94-2.06-.94 2.06-2.06.94z\"/><path d=\"M17.41 7.96l-1.37-1.37c-.4-.4-.92-.59-1.43-.59-.52 0-1.04.2-1.43.59L10.3 9.45l-7.72 7.72c-.78.78-.78 2.05 0 2.83L4 21.41c.39.39.9.59 1.41.59.51 0 1.02-.2 1.41-.59l7.78-7.78 2.81-2.81c.8-.78.8-2.07 0-2.86zM5.41 20L4 18.59l7.72-7.72 1.47 1.35L5.41 20z\"/>\n",
              "  </svg>\n",
              "      </button>\n",
              "      \n",
              "  <style>\n",
              "    .colab-df-container {\n",
              "      display:flex;\n",
              "      flex-wrap:wrap;\n",
              "      gap: 12px;\n",
              "    }\n",
              "\n",
              "    .colab-df-convert {\n",
              "      background-color: #E8F0FE;\n",
              "      border: none;\n",
              "      border-radius: 50%;\n",
              "      cursor: pointer;\n",
              "      display: none;\n",
              "      fill: #1967D2;\n",
              "      height: 32px;\n",
              "      padding: 0 0 0 0;\n",
              "      width: 32px;\n",
              "    }\n",
              "\n",
              "    .colab-df-convert:hover {\n",
              "      background-color: #E2EBFA;\n",
              "      box-shadow: 0px 1px 2px rgba(60, 64, 67, 0.3), 0px 1px 3px 1px rgba(60, 64, 67, 0.15);\n",
              "      fill: #174EA6;\n",
              "    }\n",
              "\n",
              "    [theme=dark] .colab-df-convert {\n",
              "      background-color: #3B4455;\n",
              "      fill: #D2E3FC;\n",
              "    }\n",
              "\n",
              "    [theme=dark] .colab-df-convert:hover {\n",
              "      background-color: #434B5C;\n",
              "      box-shadow: 0px 1px 3px 1px rgba(0, 0, 0, 0.15);\n",
              "      filter: drop-shadow(0px 1px 2px rgba(0, 0, 0, 0.3));\n",
              "      fill: #FFFFFF;\n",
              "    }\n",
              "  </style>\n",
              "\n",
              "      <script>\n",
              "        const buttonEl =\n",
              "          document.querySelector('#df-bb518264-a34b-475b-bd76-b7f1992f0946 button.colab-df-convert');\n",
              "        buttonEl.style.display =\n",
              "          google.colab.kernel.accessAllowed ? 'block' : 'none';\n",
              "\n",
              "        async function convertToInteractive(key) {\n",
              "          const element = document.querySelector('#df-bb518264-a34b-475b-bd76-b7f1992f0946');\n",
              "          const dataTable =\n",
              "            await google.colab.kernel.invokeFunction('convertToInteractive',\n",
              "                                                     [key], {});\n",
              "          if (!dataTable) return;\n",
              "\n",
              "          const docLinkHtml = 'Like what you see? Visit the ' +\n",
              "            '<a target=\"_blank\" href=https://colab.research.google.com/notebooks/data_table.ipynb>data table notebook</a>'\n",
              "            + ' to learn more about interactive tables.';\n",
              "          element.innerHTML = '';\n",
              "          dataTable['output_type'] = 'display_data';\n",
              "          await google.colab.output.renderOutput(dataTable, element);\n",
              "          const docLink = document.createElement('div');\n",
              "          docLink.innerHTML = docLinkHtml;\n",
              "          element.appendChild(docLink);\n",
              "        }\n",
              "      </script>\n",
              "    </div>\n",
              "  </div>\n",
              "  "
            ]
          },
          "metadata": {},
          "execution_count": 14
        }
      ]
    },
    {
      "cell_type": "code",
      "source": [
        "# checking missing value\n",
        "newdata.isnull().sum()"
      ],
      "metadata": {
        "colab": {
          "base_uri": "https://localhost:8080/"
        },
        "id": "291TZyAI0sUG",
        "outputId": "8ece040a-a44c-407d-e12f-e28c79b8d2f4"
      },
      "execution_count": null,
      "outputs": [
        {
          "output_type": "execute_result",
          "data": {
            "text/plain": [
              "country           63\n",
              "designation    37465\n",
              "  Points           0\n",
              "  Price         8996\n",
              "province          63\n",
              "taster_name    26244\n",
              "title              0\n",
              "variety            1\n",
              "winery             0\n",
              "dtype: int64"
            ]
          },
          "metadata": {},
          "execution_count": 121
        }
      ]
    },
    {
      "cell_type": "code",
      "source": [
        "#statistical.info\n",
        "newdata.describe()"
      ],
      "metadata": {
        "colab": {
          "base_uri": "https://localhost:8080/",
          "height": 300
        },
        "id": "BX-eHNyoJK9L",
        "outputId": "a06a02e9-7e9e-46f7-9124-0d35231593e4"
      },
      "execution_count": null,
      "outputs": [
        {
          "output_type": "execute_result",
          "data": {
            "text/plain": [
              "              Points          Price\n",
              "count  129971.000000  120975.000000\n",
              "mean       88.447138      35.363389\n",
              "std         3.039730      41.022218\n",
              "min        80.000000       4.000000\n",
              "25%        86.000000      17.000000\n",
              "50%        88.000000      25.000000\n",
              "75%        91.000000      42.000000\n",
              "max       100.000000    3300.000000"
            ],
            "text/html": [
              "\n",
              "  <div id=\"df-7b439c00-0165-43c0-8b32-9bfdbd1bc601\">\n",
              "    <div class=\"colab-df-container\">\n",
              "      <div>\n",
              "<style scoped>\n",
              "    .dataframe tbody tr th:only-of-type {\n",
              "        vertical-align: middle;\n",
              "    }\n",
              "\n",
              "    .dataframe tbody tr th {\n",
              "        vertical-align: top;\n",
              "    }\n",
              "\n",
              "    .dataframe thead th {\n",
              "        text-align: right;\n",
              "    }\n",
              "</style>\n",
              "<table border=\"1\" class=\"dataframe\">\n",
              "  <thead>\n",
              "    <tr style=\"text-align: right;\">\n",
              "      <th></th>\n",
              "      <th>Points</th>\n",
              "      <th>Price</th>\n",
              "    </tr>\n",
              "  </thead>\n",
              "  <tbody>\n",
              "    <tr>\n",
              "      <th>count</th>\n",
              "      <td>129971.000000</td>\n",
              "      <td>120975.000000</td>\n",
              "    </tr>\n",
              "    <tr>\n",
              "      <th>mean</th>\n",
              "      <td>88.447138</td>\n",
              "      <td>35.363389</td>\n",
              "    </tr>\n",
              "    <tr>\n",
              "      <th>std</th>\n",
              "      <td>3.039730</td>\n",
              "      <td>41.022218</td>\n",
              "    </tr>\n",
              "    <tr>\n",
              "      <th>min</th>\n",
              "      <td>80.000000</td>\n",
              "      <td>4.000000</td>\n",
              "    </tr>\n",
              "    <tr>\n",
              "      <th>25%</th>\n",
              "      <td>86.000000</td>\n",
              "      <td>17.000000</td>\n",
              "    </tr>\n",
              "    <tr>\n",
              "      <th>50%</th>\n",
              "      <td>88.000000</td>\n",
              "      <td>25.000000</td>\n",
              "    </tr>\n",
              "    <tr>\n",
              "      <th>75%</th>\n",
              "      <td>91.000000</td>\n",
              "      <td>42.000000</td>\n",
              "    </tr>\n",
              "    <tr>\n",
              "      <th>max</th>\n",
              "      <td>100.000000</td>\n",
              "      <td>3300.000000</td>\n",
              "    </tr>\n",
              "  </tbody>\n",
              "</table>\n",
              "</div>\n",
              "      <button class=\"colab-df-convert\" onclick=\"convertToInteractive('df-7b439c00-0165-43c0-8b32-9bfdbd1bc601')\"\n",
              "              title=\"Convert this dataframe to an interactive table.\"\n",
              "              style=\"display:none;\">\n",
              "        \n",
              "  <svg xmlns=\"http://www.w3.org/2000/svg\" height=\"24px\"viewBox=\"0 0 24 24\"\n",
              "       width=\"24px\">\n",
              "    <path d=\"M0 0h24v24H0V0z\" fill=\"none\"/>\n",
              "    <path d=\"M18.56 5.44l.94 2.06.94-2.06 2.06-.94-2.06-.94-.94-2.06-.94 2.06-2.06.94zm-11 1L8.5 8.5l.94-2.06 2.06-.94-2.06-.94L8.5 2.5l-.94 2.06-2.06.94zm10 10l.94 2.06.94-2.06 2.06-.94-2.06-.94-.94-2.06-.94 2.06-2.06.94z\"/><path d=\"M17.41 7.96l-1.37-1.37c-.4-.4-.92-.59-1.43-.59-.52 0-1.04.2-1.43.59L10.3 9.45l-7.72 7.72c-.78.78-.78 2.05 0 2.83L4 21.41c.39.39.9.59 1.41.59.51 0 1.02-.2 1.41-.59l7.78-7.78 2.81-2.81c.8-.78.8-2.07 0-2.86zM5.41 20L4 18.59l7.72-7.72 1.47 1.35L5.41 20z\"/>\n",
              "  </svg>\n",
              "      </button>\n",
              "      \n",
              "  <style>\n",
              "    .colab-df-container {\n",
              "      display:flex;\n",
              "      flex-wrap:wrap;\n",
              "      gap: 12px;\n",
              "    }\n",
              "\n",
              "    .colab-df-convert {\n",
              "      background-color: #E8F0FE;\n",
              "      border: none;\n",
              "      border-radius: 50%;\n",
              "      cursor: pointer;\n",
              "      display: none;\n",
              "      fill: #1967D2;\n",
              "      height: 32px;\n",
              "      padding: 0 0 0 0;\n",
              "      width: 32px;\n",
              "    }\n",
              "\n",
              "    .colab-df-convert:hover {\n",
              "      background-color: #E2EBFA;\n",
              "      box-shadow: 0px 1px 2px rgba(60, 64, 67, 0.3), 0px 1px 3px 1px rgba(60, 64, 67, 0.15);\n",
              "      fill: #174EA6;\n",
              "    }\n",
              "\n",
              "    [theme=dark] .colab-df-convert {\n",
              "      background-color: #3B4455;\n",
              "      fill: #D2E3FC;\n",
              "    }\n",
              "\n",
              "    [theme=dark] .colab-df-convert:hover {\n",
              "      background-color: #434B5C;\n",
              "      box-shadow: 0px 1px 3px 1px rgba(0, 0, 0, 0.15);\n",
              "      filter: drop-shadow(0px 1px 2px rgba(0, 0, 0, 0.3));\n",
              "      fill: #FFFFFF;\n",
              "    }\n",
              "  </style>\n",
              "\n",
              "      <script>\n",
              "        const buttonEl =\n",
              "          document.querySelector('#df-7b439c00-0165-43c0-8b32-9bfdbd1bc601 button.colab-df-convert');\n",
              "        buttonEl.style.display =\n",
              "          google.colab.kernel.accessAllowed ? 'block' : 'none';\n",
              "\n",
              "        async function convertToInteractive(key) {\n",
              "          const element = document.querySelector('#df-7b439c00-0165-43c0-8b32-9bfdbd1bc601');\n",
              "          const dataTable =\n",
              "            await google.colab.kernel.invokeFunction('convertToInteractive',\n",
              "                                                     [key], {});\n",
              "          if (!dataTable) return;\n",
              "\n",
              "          const docLinkHtml = 'Like what you see? Visit the ' +\n",
              "            '<a target=\"_blank\" href=https://colab.research.google.com/notebooks/data_table.ipynb>data table notebook</a>'\n",
              "            + ' to learn more about interactive tables.';\n",
              "          element.innerHTML = '';\n",
              "          dataTable['output_type'] = 'display_data';\n",
              "          await google.colab.output.renderOutput(dataTable, element);\n",
              "          const docLink = document.createElement('div');\n",
              "          docLink.innerHTML = docLinkHtml;\n",
              "          element.appendChild(docLink);\n",
              "        }\n",
              "      </script>\n",
              "    </div>\n",
              "  </div>\n",
              "  "
            ]
          },
          "metadata": {},
          "execution_count": 122
        }
      ]
    },
    {
      "cell_type": "markdown",
      "source": [
        "# Visulizeing Data\n"
      ],
      "metadata": {
        "id": "ZobabO1v9wP3"
      }
    },
    {
      "cell_type": "code",
      "source": [
        "newdata.corr()"
      ],
      "metadata": {
        "colab": {
          "base_uri": "https://localhost:8080/",
          "height": 112
        },
        "id": "lii8E1dD-KA7",
        "outputId": "82a53b13-a9e8-4df2-f39f-9a2104b411c6"
      },
      "execution_count": null,
      "outputs": [
        {
          "output_type": "execute_result",
          "data": {
            "text/plain": [
              "            Points     Price\n",
              "  Points  1.000000  0.416167\n",
              "  Price   0.416167  1.000000"
            ],
            "text/html": [
              "\n",
              "  <div id=\"df-f800300e-312d-4ee5-b37c-035733d62d85\">\n",
              "    <div class=\"colab-df-container\">\n",
              "      <div>\n",
              "<style scoped>\n",
              "    .dataframe tbody tr th:only-of-type {\n",
              "        vertical-align: middle;\n",
              "    }\n",
              "\n",
              "    .dataframe tbody tr th {\n",
              "        vertical-align: top;\n",
              "    }\n",
              "\n",
              "    .dataframe thead th {\n",
              "        text-align: right;\n",
              "    }\n",
              "</style>\n",
              "<table border=\"1\" class=\"dataframe\">\n",
              "  <thead>\n",
              "    <tr style=\"text-align: right;\">\n",
              "      <th></th>\n",
              "      <th>Points</th>\n",
              "      <th>Price</th>\n",
              "    </tr>\n",
              "  </thead>\n",
              "  <tbody>\n",
              "    <tr>\n",
              "      <th>Points</th>\n",
              "      <td>1.000000</td>\n",
              "      <td>0.416167</td>\n",
              "    </tr>\n",
              "    <tr>\n",
              "      <th>Price</th>\n",
              "      <td>0.416167</td>\n",
              "      <td>1.000000</td>\n",
              "    </tr>\n",
              "  </tbody>\n",
              "</table>\n",
              "</div>\n",
              "      <button class=\"colab-df-convert\" onclick=\"convertToInteractive('df-f800300e-312d-4ee5-b37c-035733d62d85')\"\n",
              "              title=\"Convert this dataframe to an interactive table.\"\n",
              "              style=\"display:none;\">\n",
              "        \n",
              "  <svg xmlns=\"http://www.w3.org/2000/svg\" height=\"24px\"viewBox=\"0 0 24 24\"\n",
              "       width=\"24px\">\n",
              "    <path d=\"M0 0h24v24H0V0z\" fill=\"none\"/>\n",
              "    <path d=\"M18.56 5.44l.94 2.06.94-2.06 2.06-.94-2.06-.94-.94-2.06-.94 2.06-2.06.94zm-11 1L8.5 8.5l.94-2.06 2.06-.94-2.06-.94L8.5 2.5l-.94 2.06-2.06.94zm10 10l.94 2.06.94-2.06 2.06-.94-2.06-.94-.94-2.06-.94 2.06-2.06.94z\"/><path d=\"M17.41 7.96l-1.37-1.37c-.4-.4-.92-.59-1.43-.59-.52 0-1.04.2-1.43.59L10.3 9.45l-7.72 7.72c-.78.78-.78 2.05 0 2.83L4 21.41c.39.39.9.59 1.41.59.51 0 1.02-.2 1.41-.59l7.78-7.78 2.81-2.81c.8-.78.8-2.07 0-2.86zM5.41 20L4 18.59l7.72-7.72 1.47 1.35L5.41 20z\"/>\n",
              "  </svg>\n",
              "      </button>\n",
              "      \n",
              "  <style>\n",
              "    .colab-df-container {\n",
              "      display:flex;\n",
              "      flex-wrap:wrap;\n",
              "      gap: 12px;\n",
              "    }\n",
              "\n",
              "    .colab-df-convert {\n",
              "      background-color: #E8F0FE;\n",
              "      border: none;\n",
              "      border-radius: 50%;\n",
              "      cursor: pointer;\n",
              "      display: none;\n",
              "      fill: #1967D2;\n",
              "      height: 32px;\n",
              "      padding: 0 0 0 0;\n",
              "      width: 32px;\n",
              "    }\n",
              "\n",
              "    .colab-df-convert:hover {\n",
              "      background-color: #E2EBFA;\n",
              "      box-shadow: 0px 1px 2px rgba(60, 64, 67, 0.3), 0px 1px 3px 1px rgba(60, 64, 67, 0.15);\n",
              "      fill: #174EA6;\n",
              "    }\n",
              "\n",
              "    [theme=dark] .colab-df-convert {\n",
              "      background-color: #3B4455;\n",
              "      fill: #D2E3FC;\n",
              "    }\n",
              "\n",
              "    [theme=dark] .colab-df-convert:hover {\n",
              "      background-color: #434B5C;\n",
              "      box-shadow: 0px 1px 3px 1px rgba(0, 0, 0, 0.15);\n",
              "      filter: drop-shadow(0px 1px 2px rgba(0, 0, 0, 0.3));\n",
              "      fill: #FFFFFF;\n",
              "    }\n",
              "  </style>\n",
              "\n",
              "      <script>\n",
              "        const buttonEl =\n",
              "          document.querySelector('#df-f800300e-312d-4ee5-b37c-035733d62d85 button.colab-df-convert');\n",
              "        buttonEl.style.display =\n",
              "          google.colab.kernel.accessAllowed ? 'block' : 'none';\n",
              "\n",
              "        async function convertToInteractive(key) {\n",
              "          const element = document.querySelector('#df-f800300e-312d-4ee5-b37c-035733d62d85');\n",
              "          const dataTable =\n",
              "            await google.colab.kernel.invokeFunction('convertToInteractive',\n",
              "                                                     [key], {});\n",
              "          if (!dataTable) return;\n",
              "\n",
              "          const docLinkHtml = 'Like what you see? Visit the ' +\n",
              "            '<a target=\"_blank\" href=https://colab.research.google.com/notebooks/data_table.ipynb>data table notebook</a>'\n",
              "            + ' to learn more about interactive tables.';\n",
              "          element.innerHTML = '';\n",
              "          dataTable['output_type'] = 'display_data';\n",
              "          await google.colab.output.renderOutput(dataTable, element);\n",
              "          const docLink = document.createElement('div');\n",
              "          docLink.innerHTML = docLinkHtml;\n",
              "          element.appendChild(docLink);\n",
              "        }\n",
              "      </script>\n",
              "    </div>\n",
              "  </div>\n",
              "  "
            ]
          },
          "metadata": {},
          "execution_count": 89
        }
      ]
    },
    {
      "cell_type": "code",
      "source": [
        "#Correlation plot\n",
        " \n",
        "sns.heatmap(newdata.corr())"
      ],
      "metadata": {
        "colab": {
          "base_uri": "https://localhost:8080/",
          "height": 286
        },
        "id": "GiRnWZ63-Zpc",
        "outputId": "f9d1e0ec-0d00-4054-bee5-a38d9e089d6b"
      },
      "execution_count": null,
      "outputs": [
        {
          "output_type": "execute_result",
          "data": {
            "text/plain": [
              "<matplotlib.axes._subplots.AxesSubplot at 0x7f827e8c1350>"
            ]
          },
          "metadata": {},
          "execution_count": 90
        },
        {
          "output_type": "display_data",
          "data": {
            "text/plain": [
              "<Figure size 432x288 with 2 Axes>"
            ],
            "image/png": "[encoded data removed]"
          },
          "metadata": {}
        }
      ]
    },
    {
      "cell_type": "code",
      "source": [
        "newdata['country'].value_counts()"
      ],
      "metadata": {
        "colab": {
          "base_uri": "https://localhost:8080/"
        },
        "id": "sna9GsG-Hbf7",
        "outputId": "39711c84-0a01-4b44-82a0-349c447b55c9"
      },
      "execution_count": null,
      "outputs": [
        {
          "output_type": "execute_result",
          "data": {
            "text/plain": [
              "US                        54504\n",
              "France                    22093\n",
              "Italy                     19540\n",
              "Spain                      6645\n",
              "Portugal                   5691\n",
              "Chile                      4472\n",
              "Argentina                  3800\n",
              "Austria                    3345\n",
              "Australia                  2329\n",
              "Germany                    2165\n",
              "New Zealand                1419\n",
              "South Africa               1401\n",
              "Israel                      505\n",
              "Greece                      466\n",
              "Canada                      257\n",
              "Hungary                     146\n",
              "Bulgaria                    141\n",
              "Romania                     120\n",
              "Uruguay                     109\n",
              "Turkey                       90\n",
              "Slovenia                     87\n",
              "Georgia                      86\n",
              "England                      74\n",
              "Croatia                      73\n",
              "Mexico                       70\n",
              "Moldova                      59\n",
              "Brazil                       52\n",
              "Lebanon                      35\n",
              "Morocco                      28\n",
              "Peru                         16\n",
              "Ukraine                      14\n",
              "Serbia                       12\n",
              "Czech Republic               12\n",
              "Macedonia                    12\n",
              "Cyprus                       11\n",
              "India                         9\n",
              "Switzerland                   7\n",
              "Luxembourg                    6\n",
              "Bosnia and Herzegovina        2\n",
              "Armenia                       2\n",
              "Slovakia                      1\n",
              "China                         1\n",
              "Egypt                         1\n",
              "Name: country, dtype: int64"
            ]
          },
          "metadata": {},
          "execution_count": 111
        }
      ]
    },
    {
      "cell_type": "code",
      "source": [
        "newdata.plot.area()"
      ],
      "metadata": {
        "colab": {
          "base_uri": "https://localhost:8080/",
          "height": 283
        },
        "id": "QWBhfOCRJRLD",
        "outputId": "caf59b3e-d294-4b50-d343-99982b6f5e45"
      },
      "execution_count": null,
      "outputs": [
        {
          "output_type": "execute_result",
          "data": {
            "text/plain": [
              "<matplotlib.axes._subplots.AxesSubplot at 0x7f82573399d0>"
            ]
          },
          "metadata": {},
          "execution_count": 117
        },
        {
          "output_type": "display_data",
          "data": {
            "text/plain": [
              "<Figure size 432x288 with 1 Axes>"
            ],
            "image/png": "[encoded data removed]"
          },
          "metadata": {}
        }
      ]
    },
    {
      "cell_type": "code",
      "source": [
        "plt.figure(figsize=(25,10))\n",
        "sns.countplot(data.country,order = data.country.value_counts().index[:10])\n",
        "plt.title(\"Counts of the Evaluation of Countries\")\n",
        "plt.xlabel(\"Countries\")\n",
        "plt.ylabel(\"Counts\")\n",
        "plt.show()"
      ],
      "metadata": {
        "colab": {
          "base_uri": "https://localhost:8080/",
          "height": 676
        },
        "id": "gkxWMFOlmeH3",
        "outputId": "3e148522-c85e-47e4-ef56-ccd1d43b44d8"
      },
      "execution_count": null,
      "outputs": [
        {
          "output_type": "stream",
          "name": "stderr",
          "text": [
            "/usr/local/lib/python3.7/dist-packages/seaborn/_decorators.py:43: FutureWarning: Pass the following variable as a keyword arg: x. From version 0.12, the only valid positional argument will be `data`, and passing other arguments without an explicit keyword will result in an error or misinterpretation.\n",
            "  FutureWarning\n"
          ]
        },
        {
          "output_type": "display_data",
          "data": {
            "text/plain": [
              "<Figure size 1800x720 with 1 Axes>"
            ],
            "image/png": "[encoded data removed]"
          },
          "metadata": {
            "needs_background": "light"
          }
        }
      ]
    },
    {
      "cell_type": "code",
      "source": [
        "sns.pairplot(data=data,kind='scatter',diag_kind='kde')"
      ],
      "metadata": {
        "colab": {
          "base_uri": "https://localhost:8080/",
          "height": 567
        },
        "id": "EzFnGVNYnINT",
        "outputId": "4dbaa575-5d23-4d5a-cc75-d972d16f9fac"
      },
      "execution_count": null,
      "outputs": [
        {
          "output_type": "execute_result",
          "data": {
            "text/plain": [
              "<seaborn.axisgrid.PairGrid at 0x7fe93799f390>"
            ]
          },
          "metadata": {},
          "execution_count": 28
        },
        {
          "output_type": "display_data",
          "data": {
            "text/plain": [
              "<Figure size 540x540 with 12 Axes>"
            ],
            "image/png": "[encoded data removed]"
          },
          "metadata": {
            "needs_background": "light"
          }
        }
      ]
    },
    {
      "cell_type": "code",
      "source": [
        ""
      ],
      "metadata": {
        "id": "XvjsvQ3Bs3zx"
      },
      "execution_count": null,
      "outputs": []
    }
  ]
}